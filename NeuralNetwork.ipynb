{
 "cells": [
  {
   "cell_type": "code",
   "execution_count": 1,
   "metadata": {},
   "outputs": [],
   "source": [
    "import numpy as np"
   ]
  },
  {
   "cell_type": "code",
   "execution_count": 2,
   "metadata": {},
   "outputs": [],
   "source": [
    "class Neural_Network:\n",
    "    def __init__(self,x,y):\n",
    "        self.input=x\n",
    "        self.weight1 = np.random.rand(self.input.shape[1],4)\n",
    "        self.weight2 = np.random.rand(4,1)\n",
    "        self.y =y\n",
    "        self.output =np.zeros(y.shape)\n",
    "        \n",
    "    def FeedForward(self):\n",
    "        self.layer1 = sigmoid(np.dot(self.input,self.weight1))\n",
    "        self.output = sigmoid(np.dot(self.layer1,self.weight2))"
   ]
  },
  {
   "cell_type": "code",
   "execution_count": null,
   "metadata": {},
   "outputs": [],
   "source": []
  }
 ],
 "metadata": {
  "kernelspec": {
   "display_name": "Python 3",
   "language": "python",
   "name": "python3"
  },
  "language_info": {
   "codemirror_mode": {
    "name": "ipython",
    "version": 3
   },
   "file_extension": ".py",
   "mimetype": "text/x-python",
   "name": "python",
   "nbconvert_exporter": "python",
   "pygments_lexer": "ipython3",
   "version": "3.5.2"
  }
 },
 "nbformat": 4,
 "nbformat_minor": 2
}
